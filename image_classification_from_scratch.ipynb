{
  "cells": [
    {
      "cell_type": "markdown",
      "metadata": {
        "id": "tMmXauEVi3h3"
      },
      "source": [
        "#Descargar e importar\n",
        "\n",
        "\n",
        "\n"
      ]
    },
    {
      "cell_type": "code",
      "execution_count": null,
      "metadata": {
        "id": "uilr_-6ddihE"
      },
      "outputs": [],
      "source": [
        "import tensorflow as tf\n",
        "from tensorflow import keras\n",
        "from tensorflow.keras import layers"
      ]
    },
    {
      "cell_type": "code",
      "execution_count": null,
      "metadata": {
        "colab": {
          "base_uri": "https://localhost:8080/"
        },
        "id": "ASIl6XOKdihL",
        "outputId": "335e3a7f-b8d0-42f9-f774-3ff579d2769d"
      },
      "outputs": [
        {
          "name": "stdout",
          "output_type": "stream",
          "text": [
            "  % Total    % Received % Xferd  Average Speed   Time    Time     Time  Current\n",
            "                                 Dload  Upload   Total   Spent    Left  Speed\n",
            "100  786M  100  786M    0     0   104M      0  0:00:07  0:00:07 --:--:--  112M\n"
          ]
        }
      ],
      "source": [
        "!curl -O https://download.microsoft.com/download/3/E/1/3E1C3F21-ECDB-4869-8368-6DEBA77B919F/kagglecatsanddogs_5340.zip"
      ]
    },
    {
      "cell_type": "code",
      "execution_count": null,
      "metadata": {
        "id": "tbloa9sLSvlD"
      },
      "outputs": [],
      "source": [
        "!unzip -q kagglecatsanddogs_5340.zip"
      ]
    },
    {
      "cell_type": "markdown",
      "metadata": {
        "id": "Wlb1XUnvdihV"
      },
      "source": [
        "## Sacar algunas imagenes JFIF\n"
      ]
    },
    {
      "cell_type": "code",
      "execution_count": null,
      "metadata": {
        "colab": {
          "base_uri": "https://localhost:8080/"
        },
        "id": "csX0CRIzdihX",
        "outputId": "c7022cb0-0bc2-4ed4-e40f-1700f5071c17"
      },
      "outputs": [
        {
          "name": "stdout",
          "output_type": "stream",
          "text": [
            "Deleted 1590 images\n"
          ]
        }
      ],
      "source": [
        "import os\n",
        "\n",
        "num_skipped = 0\n",
        "for folder_name in (\"Cat\", \"Dog\"):\n",
        "    folder_path = os.path.join(\"PetImages\", folder_name)\n",
        "    for fname in os.listdir(folder_path):\n",
        "        fpath = os.path.join(folder_path, fname)\n",
        "        try:\n",
        "            fobj = open(fpath, \"rb\")\n",
        "            is_jfif = tf.compat.as_bytes(\"JFIF\") in fobj.peek(10)\n",
        "        finally:\n",
        "            fobj.close()\n",
        "\n",
        "        if not is_jfif:\n",
        "            num_skipped += 1\n",
        "            # Delete corrupted image\n",
        "            os.remove(fpath)\n",
        "\n",
        "print(\"Deleted %d images\" % num_skipped)"
      ]
    },
    {
      "cell_type": "markdown",
      "metadata": {
        "id": "iO74MsSPdihZ"
      },
      "source": [
        "## Generar Dataset"
      ]
    },
    {
      "cell_type": "code",
      "execution_count": null,
      "metadata": {
        "colab": {
          "base_uri": "https://localhost:8080/"
        },
        "id": "wZKWDx33diha",
        "outputId": "fe049980-2fcd-4826-9f6b-201fdfee7b46"
      },
      "outputs": [
        {
          "name": "stdout",
          "output_type": "stream",
          "text": [
            "Found 23410 files belonging to 2 classes.\n",
            "Using 18728 files for training.\n",
            "Found 23410 files belonging to 2 classes.\n",
            "Using 4682 files for validation.\n"
          ]
        }
      ],
      "source": [
        "image_size = (64, 64)\n",
        "batch_size = 128\n",
        "\n",
        "train_ds = tf.keras.preprocessing.image_dataset_from_directory(\n",
        "    \"PetImages\",\n",
        "    validation_split=0.2,\n",
        "    subset=\"training\",\n",
        "    seed=1337,\n",
        "    image_size=image_size,\n",
        "    batch_size=batch_size,\n",
        ")\n",
        "val_ds = tf.keras.preprocessing.image_dataset_from_directory(\n",
        "    \"PetImages\",\n",
        "    validation_split=0.2,\n",
        "    subset=\"validation\",\n",
        "    seed=1337,\n",
        "    image_size=image_size,\n",
        "    batch_size=batch_size,\n",
        ")"
      ]
    },
    {
      "cell_type": "code",
      "execution_count": null,
      "metadata": {
        "id": "J-qML6LTdihf"
      },
      "outputs": [],
      "source": [
        "import matplotlib.pyplot as plt\n",
        "\n",
        "plt.figure(figsize=(10, 10))\n",
        "for images, labels in train_ds.take(1):\n",
        "    for i in range(9):\n",
        "        ax = plt.subplot(3, 3, i + 1)\n",
        "        plt.imshow(images[i].numpy().astype(\"uint8\"))\n",
        "        plt.title(int(labels[i]))\n",
        "        plt.axis(\"off\")"
      ]
    },
    {
      "cell_type": "code",
      "execution_count": null,
      "metadata": {
        "id": "WhmeLdLQdihq"
      },
      "outputs": [],
      "source": [
        "train_ds = train_ds.prefetch(buffer_size=32)\n",
        "val_ds = val_ds.prefetch(buffer_size=32)"
      ]
    },
    {
      "cell_type": "markdown",
      "metadata": {
        "id": "odmDmBsWja0b"
      },
      "source": [
        "# Crear el modelo"
      ]
    },
    {
      "cell_type": "code",
      "execution_count": null,
      "metadata": {
        "id": "-E5QMe0sdihs"
      },
      "outputs": [],
      "source": [
        "model = keras.Sequential([\n",
        "    keras.layers.Input(shape=(64,64,3,)),\n",
        "    #keras.layers.Dense(512, activation='gelu', use_bias=True),\n",
        "    keras.layers.Dense(512, activation='relu', use_bias=True),\n",
        "    keras.layers.Dense(512, activation='selu', use_bias=True),\n",
        "    keras.layers.Dense(512, activation='gelu', use_bias=True),\n",
        "    keras.layers.Flatten(), \n",
        "    keras.layers.Dense(2, activation='softmax')\n",
        "])"
      ]
    },
    {
      "cell_type": "code",
      "execution_count": null,
      "metadata": {
        "id": "EFOfCkQTiM-s"
      },
      "outputs": [],
      "source": [
        "model.compile(optimizer='adam',\n",
        "              loss='sparse_categorical_crossentropy',\n",
        "              metrics=['accuracy'])"
      ]
    },
    {
      "cell_type": "markdown",
      "source": [
        "#Ver el modelo"
      ],
      "metadata": {
        "id": "J2q71pKJC7bS"
      }
    },
    {
      "cell_type": "code",
      "source": [
        "model.summary()"
      ],
      "metadata": {
        "id": "wisYocRrC52D"
      },
      "execution_count": null,
      "outputs": []
    },
    {
      "cell_type": "code",
      "source": [
        "visualizer(model, format='png', view=True)\n",
        "Image.open(\"graph.png\")"
      ],
      "metadata": {
        "id": "kj9dmQZgDAIi"
      },
      "execution_count": null,
      "outputs": []
    },
    {
      "cell_type": "markdown",
      "metadata": {
        "id": "dOC-SC78jqOe"
      },
      "source": [
        "# Entrenar el modelo\n"
      ]
    },
    {
      "cell_type": "code",
      "execution_count": null,
      "metadata": {
        "colab": {
          "base_uri": "https://localhost:8080/"
        },
        "id": "jhrg02Bpdihw",
        "outputId": "76498ce0-ae41-4d48-ed6f-876e12d540ea"
      },
      "outputs": [
        {
          "name": "stdout",
          "output_type": "stream",
          "text": [
            "Epoch 1/10\n",
            "147/147 [==============================] - 24s 143ms/step - loss: 700.9360 - accuracy: 0.5447\n",
            "Epoch 2/10\n",
            "147/147 [==============================] - 22s 145ms/step - loss: 16.9840 - accuracy: 0.6073\n",
            "Epoch 3/10\n",
            "147/147 [==============================] - 23s 152ms/step - loss: 5.9218 - accuracy: 0.6442\n",
            "Epoch 4/10\n",
            "147/147 [==============================] - 22s 146ms/step - loss: 2.7054 - accuracy: 0.6784\n",
            "Epoch 5/10\n",
            "147/147 [==============================] - 22s 145ms/step - loss: 1.9380 - accuracy: 0.7022\n",
            "Epoch 6/10\n",
            "147/147 [==============================] - 22s 147ms/step - loss: 1.5365 - accuracy: 0.7225\n",
            "Epoch 7/10\n",
            "147/147 [==============================] - 22s 143ms/step - loss: 1.1028 - accuracy: 0.7524\n",
            "Epoch 8/10\n",
            "147/147 [==============================] - 22s 142ms/step - loss: 1.0005 - accuracy: 0.7617\n",
            "Epoch 9/10\n",
            "147/147 [==============================] - 22s 145ms/step - loss: 0.7706 - accuracy: 0.7769\n",
            "Epoch 10/10\n",
            "147/147 [==============================] - 22s 143ms/step - loss: 0.6110 - accuracy: 0.8087\n"
          ]
        },
        {
          "data": {
            "text/plain": [
              "<keras.callbacks.History at 0x7f7ebdf3e350>"
            ]
          },
          "execution_count": 10,
          "metadata": {},
          "output_type": "execute_result"
        }
      ],
      "source": [
        "model.fit(train_ds, epochs=20)"
      ]
    },
    {
      "cell_type": "markdown",
      "metadata": {
        "id": "Tks-yABJdihy"
      },
      "source": [
        "## Run inference on new data\n",
        "\n",
        "Note that data augmentation and dropout are inactive at inference time."
      ]
    },
    {
      "cell_type": "markdown",
      "metadata": {
        "id": "nZXpNOgxjxt7"
      },
      "source": [
        "#Probar el modelo"
      ]
    },
    {
      "cell_type": "code",
      "execution_count": null,
      "metadata": {
        "id": "0Zw7sD2j-8RZ"
      },
      "outputs": [],
      "source": [
        "import numpy as np"
      ]
    },
    {
      "cell_type": "code",
      "execution_count": null,
      "metadata": {
        "colab": {
          "background_save": true,
          "base_uri": "https://localhost:8080/"
        },
        "id": "g9e3Hmq5SdhM",
        "outputId": "c22ce8ba-607a-4e0b-fc9b-1a16228df022"
      },
      "outputs": [
        {
          "name": "stdout",
          "output_type": "stream",
          "text": [
            "1/1 [==============================] - 0s 51ms/step\n",
            "This image is 95.17 percent dog and 4.83 percent cat.\n"
          ]
        }
      ],
      "source": [
        "img = keras.preprocessing.image.load_img(\n",
        "    \"PetImages/Cat/6778.jpg\", target_size=image_size\n",
        ")\n",
        "img_array = keras.preprocessing.image.img_to_array(img)\n",
        "img_array = tf.expand_dims(img_array, 0)  # Create batch axis\n",
        "\n",
        "predictions = model.predict(img_array)\n",
        "score = predictions[0]\n",
        "print(\n",
        "    \"This image is %.2f percent dog and %.2f percent cat.\"\n",
        "    %(100 * (1 - score[0]), 100 * score[0])\n",
        ")"
      ]
    },
    {
      "cell_type": "markdown",
      "source": [
        "Con lo que vimos en clase, ya que no existe una mejor capa, esta es la mejor precisión que se puede alcanzar. (Se podrian meter capas Convuncionales, pero no las vimos)"
      ],
      "metadata": {
        "id": "UpKWemMGDYgo"
      }
    },
    {
      "cell_type": "markdown",
      "metadata": {
        "id": "rLmxxvS7SlcO"
      },
      "source": [
        "#Guardar a drive\n"
      ]
    },
    {
      "cell_type": "code",
      "execution_count": null,
      "metadata": {
        "id": "Q6siTsX58J-I"
      },
      "outputs": [],
      "source": [
        "model.save(\"/content/model\")"
      ]
    },
    {
      "cell_type": "code",
      "execution_count": null,
      "metadata": {
        "colab": {
          "base_uri": "https://localhost:8080/"
        },
        "id": "uXZc-xy59JN4",
        "outputId": "904faea3-44b6-4b13-c756-123b0622f151"
      },
      "outputs": [
        {
          "name": "stdout",
          "output_type": "stream",
          "text": [
            "Mounted at /content/drive\n"
          ]
        }
      ],
      "source": [
        "from google.colab import drive\n",
        "drive.mount('/content/drive')"
      ]
    }
  ],
  "metadata": {
    "accelerator": "GPU",
    "colab": {
      "collapsed_sections": [
        "Wlb1XUnvdihV"
      ],
      "provenance": []
    },
    "gpuClass": "standard",
    "kernelspec": {
      "display_name": "Python 3",
      "language": "python",
      "name": "python3"
    },
    "language_info": {
      "codemirror_mode": {
        "name": "ipython",
        "version": 3
      },
      "file_extension": ".py",
      "mimetype": "text/x-python",
      "name": "python",
      "nbconvert_exporter": "python",
      "pygments_lexer": "ipython3",
      "version": "3.7.0"
    }
  },
  "nbformat": 4,
  "nbformat_minor": 0
}